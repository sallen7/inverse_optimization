{
 "cells": [
  {
   "cell_type": "markdown",
   "metadata": {},
   "source": [
    "## Demonstrating the Online_IO Class: Templates and Miscellaneous\n",
    "\n",
    "### Stephanie Allen, *AMSC PhD, UMD-College Park* "
   ]
  },
  {
   "cell_type": "markdown",
   "metadata": {},
   "source": [
    "### Example General Input Forward Model ###\n",
    "\n",
    "As discussed in other Jupyter Notebook(s), we assume the general form for the optimization model whose objective function we attempt to parameterize is:\n",
    "\n",
    "$$\\min\\limits_{x} h(x) = \\frac{1}{2} x^T Q x  + c^T x$$\n",
    "$$Ax \\leq b $$\n",
    "$$Dx = \\overline{f}$$\n",
    "\n",
    "For those less familiar with `pyomo`, we thought it would be useful to provide a template for defining this general form.  Feel free to get rid of the parameters that do not fit your model and to rename parameters as you see fit.  We will be creating a template that encodes the following model:\n",
    "\n",
    "$$\\min\\limits_{x} h(x) = \\frac{1}{2} x^T \\begin{bmatrix} 2 & 1 & 1 \\\\ 1 & 2 & 1 \\\\ 1 & 1 & 2 \\end{bmatrix} x + \\begin{bmatrix} 3 \\\\ 3 \\\\ 3 \\end{bmatrix}^T x $$\n",
    "$$ \\begin{bmatrix} 4 & 5 & 6 \\\\ 7 & 8 & 9 \\end{bmatrix} x \\leq \\begin{bmatrix} 10 \\\\ 10 \\end{bmatrix} $$\n",
    "\n",
    "$$ \\begin{bmatrix} 14 & 15 & 16 \\end{bmatrix} x = 20 $$\n",
    "\n",
    "Again, this is just to show what a model with all of the parameters specified looks like."
   ]
  },
  {
   "cell_type": "code",
   "execution_count": 2,
   "metadata": {},
   "outputs": [],
   "source": [
    "import sys\n",
    "sys.path.insert(0,\"C:\\\\Users\\\\StephanieAllen\\\\Documents\\\\1_AMSC663\\\\Repository_for_Code\")\n",
    "\n",
    "import math\n",
    "import pdb #for debugging\n",
    "import numpy as np                     \n",
    "import pyomo.environ as pyo\n",
    "from pyomo.opt import SolverFactory \n",
    "from pyomo.opt import SolverStatus, TerminationCondition\n",
    "\n",
    "from online_IO_files.online_IO_source.online_IO import Online_IO "
   ]
  },
  {
   "cell_type": "code",
   "execution_count": 3,
   "metadata": {},
   "outputs": [],
   "source": [
    "#####    Creating a Pyomo Model to Pass into the Online_IO Class    #####\n",
    "### Part a: Sets and Variabless ###\n",
    "gen_form_model = pyo.ConcreteModel()\n",
    "gen_form_model.variable_index_set = pyo.RangeSet(1,3) #since we have 3 variables, \n",
    "                                        #have an index set of three elements\n",
    "gen_form_model.x = pyo.Var(gen_form_model.variable_index_set) #defining the x variables with\n",
    "                                        #the index set\n",
    "gen_form_model.inequalities_index_set = pyo.RangeSet(1,2) #inequality constraint\n",
    "                                        #index set of 2 since we have two inequalities\n",
    "gen_form_model.equalities_index_set = pyo.RangeSet(1,1) #since we have only one equality,\n",
    "                                        #we have an index set of 1\n",
    "\n",
    "### Part b: Set the Parameters ###\n",
    "# Q Matrix #\n",
    "Qdata = {(1,1):2, (1,2):1, (1,3):1, (2,1):1, (2,2):2, (2,3):1, (3,1):1, (3,2):1, (3,3):2}\n",
    "\n",
    "gen_form_model.Qmat = pyo.Param(gen_form_model.variable_index_set,\\\n",
    "                               gen_form_model.variable_index_set,\\\n",
    "                               initialize=Qdata)\n",
    "\n",
    "# c vector #\n",
    "cdata = {1:3, 2:3, 3:3}\n",
    "\n",
    "gen_form_model.cvec = pyo.Param(gen_form_model.variable_index_set,initialize=cdata)\n",
    "\n",
    "# A Matrix #\n",
    "Adata = {(1,1):4, (1,2):5, (1,3):6, (2,1):7, (2,2):8, (2,3):9} #create a dictionary\n",
    "                                        #with the initial data for A\n",
    "gen_form_model.Amat = pyo.Param(gen_form_model.inequalities_index_set,\\\n",
    "                        gen_form_model.variable_index_set,initialize=Adata) \n",
    "\n",
    "# b vector #\n",
    "bdata = {1:10,2:10}\n",
    "gen_form_model.bvector = pyo.Param(gen_form_model.inequalities_index_set,initialize=bdata)\n",
    "\n",
    "# D Matrix # \n",
    "Ddata = {(1,1):14, (1,2):15, (1,3):16}\n",
    "gen_form_model.Dmat = pyo.Param(gen_form_model.equalities_index_set,\\\n",
    "                                gen_form_model.variable_index_set,\\\n",
    "                                initialize=Ddata)\n",
    "\n",
    "# f vector #\n",
    "fdata = {1:20}\n",
    "gen_form_model.fvector = pyo.Param(gen_form_model.equalities_index_set,\\\n",
    "                                  initialize=fdata)"
   ]
  },
  {
   "cell_type": "markdown",
   "metadata": {},
   "source": [
    "We demonstrate below in the next two blocks that the template gets loaded into the `Online_IO` class successfully!  Note, we aren't looking for a particular solution; we just want to see that the template gets loaded and that we can then do something in the class with the template."
   ]
  },
  {
   "cell_type": "code",
   "execution_count": 4,
   "metadata": {},
   "outputs": [
    {
     "name": "stdout",
     "output_type": "stream",
     "text": [
      "This is the termination condition (solve_subproblem): optimal\n",
      "Solution: [[ 1.19047619]\n",
      " [ 0.47619048]\n",
      " [-0.23809524]]\n"
     ]
    }
   ],
   "source": [
    "online_gen_form = Online_IO(initial_model=gen_form_model,Qname='Qmat',cname='cvec',Aname='Amat',\\\n",
    "        bname='bvector',Dname='Dmat',fname='fvector',dimQ=(3,3),dimc=(3,1),dimA=(2,3),dimD=(1,3),\\\n",
    "        binary_mutable=[0,0,0,0,0,0],non_negative=0,feasible_set_C=pyo.ConcreteModel(),var_bounds=None)\n",
    "\n",
    "online_gen_form.initialize_IO_method(alg_specification=\"BMPS_online_GD\") #initializing an algorithm\n",
    "\n",
    "online_gen_form.solve_subproblem() #not a command that would normally be used by a user\n",
    "            #just being used to show that the template model successfully was fed into the Online_IO class\n",
    "            #and then was used to do something in the class \n",
    "\n",
    "print(\"Solution:\",online_gen_form.xbar_t_BMPS)"
   ]
  },
  {
   "cell_type": "markdown",
   "metadata": {},
   "source": [
    "For citations regarding the general model form and for the class development, see our documentation!"
   ]
  },
  {
   "cell_type": "markdown",
   "metadata": {},
   "source": [
    "### Example `feasible_set_C` for \"BMPS_online_GD\"\n",
    "\n",
    "Below, we have the sample `pyomo` model for `feasible_set_C` that was defined in the Chapter documentation."
   ]
  },
  {
   "cell_type": "code",
   "execution_count": null,
   "metadata": {},
   "outputs": [],
   "source": [
    "#### Defining a feasible set C pyomo Model ####\n",
    "\n",
    "feasible_c_region = pyo.ConcreteModel()\n",
    "\n",
    "feasible_c_region.varindex = pyo.RangeSet(1,50)\n",
    "feasible_c_region.c = pyo.Var(feasible_c_region.varindex)\n",
    "\n",
    "##### Placing Constraints Upon c #####\n",
    "\n",
    "def less_than_zero(model,i):\n",
    "    return model.c[i] <= 0\n",
    "\n",
    "feasible_c_region.less_than_zero_constraint = pyo.Constraint(feasible_c_region.varindex,rule=less_than_zero) \n",
    "\n",
    "def greater_than_negative_one(model,i):\n",
    "    return -1 <= model.c[i]\n",
    "\n",
    "feasible_c_region.greater_than_negative_one_constraint = pyo.Constraint(feasible_c_region.varindex,\\\n",
    "                                                                        rule=greater_than_negative_one)\n"
   ]
  }
 ],
 "metadata": {
  "kernelspec": {
   "display_name": "Python 3",
   "language": "python",
   "name": "python3"
  },
  "language_info": {
   "codemirror_mode": {
    "name": "ipython",
    "version": 3
   },
   "file_extension": ".py",
   "mimetype": "text/x-python",
   "name": "python",
   "nbconvert_exporter": "python",
   "pygments_lexer": "ipython3",
   "version": "3.7.3"
  }
 },
 "nbformat": 4,
 "nbformat_minor": 2
}
