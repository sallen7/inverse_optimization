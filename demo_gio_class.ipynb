{
 "cells": [
  {
   "cell_type": "code",
   "execution_count": 4,
   "metadata": {},
   "outputs": [
    {
     "name": "stdout",
     "output_type": "stream",
     "text": [
      "This is x^0-ep* for p=1:  [[ 2.5       ]\n",
      " [ 3.66666667]]\n",
      "This is x^0-ep* for p=2:  [[ 2.19230769]\n",
      " [ 3.46153846]]\n",
      "This is x^0-ep* for p='inf':  [[ 2.1]\n",
      " [ 3.4]]\n",
      "This is x^0-ep* for absolute duality:  [array([[ 2.1],\n",
      "       [ 3.4]])]\n",
      "This is x^0-ep* for relative duality:  [array([[ 3.16666667],\n",
      "       [ 3.66666667]])]\n"
     ]
    }
   ],
   "source": [
    "from gio import GIO\n",
    "import numpy as np\n",
    "\n",
    "##Data from Chan et al. (2018)'s Example 1##\n",
    "#Notice that we have \n",
    "A = np.array([[2,5],[2,-3],[2,1],[-2,-1]])\n",
    "b = np.array([[10],[-6],[4],[-10]])\n",
    "x0 = np.array([[2.5],[3]])\n",
    "\n",
    "##Creating the GIO object and Generating all of the x^0-ep* for all GIO Models## \n",
    "#.GIO_all_measures() calls all of the GIO methods\n",
    "gio_testing = GIO(A,b,x0)\n",
    "gio_testing.GIO_all_measures()\n",
    "print(\"This is x^0-ep* for p=1: \",gio_testing.x0_epsilon_p[0])\n",
    "print(\"This is x^0-ep* for p=2: \",gio_testing.x0_epsilon_p[1])\n",
    "print(\"This is x^0-ep* for p='inf': \",gio_testing.x0_epsilon_p[2])\n",
    "print(\"This is x^0-ep* for absolute duality: \",gio_testing.x0_epsilon_a)\n",
    "print(\"This is x^0-ep* for relative duality: \",gio_testing.x0_epsilon_r)"
   ]
  },
  {
   "cell_type": "code",
   "execution_count": 5,
   "metadata": {},
   "outputs": [
    {
     "name": "stdout",
     "output_type": "stream",
     "text": [
      "This is x^0-ep* for absolute duality:  [[ 2.1]\n",
      " [ 3.4]]\n",
      "This is x^0-ep* for relative duality:  [[ 3.16666667]\n",
      " [ 3.66666667]]\n"
     ]
    }
   ],
   "source": [
    "##Because we are storing the calculated attributes in lists, we see that, for the last two print statements in the\n",
    "##previous cell, a list was returned with an array inside of it.  We can solve this problem by add an index element [0] \n",
    "print(\"This is x^0-ep* for absolute duality: \",gio_testing.x0_epsilon_a[0])\n",
    "print(\"This is x^0-ep* for relative duality: \",gio_testing.x0_epsilon_r[0])"
   ]
  },
  {
   "cell_type": "code",
   "execution_count": null,
   "metadata": {
    "collapsed": true
   },
   "outputs": [],
   "source": []
  }
 ],
 "metadata": {
  "kernelspec": {
   "display_name": "Python 3",
   "language": "python",
   "name": "python3"
  },
  "language_info": {
   "codemirror_mode": {
    "name": "ipython",
    "version": 3
   },
   "file_extension": ".py",
   "mimetype": "text/x-python",
   "name": "python",
   "nbconvert_exporter": "python",
   "pygments_lexer": "ipython3",
   "version": "3.6.2"
  }
 },
 "nbformat": 4,
 "nbformat_minor": 2
}
