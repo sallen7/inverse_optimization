{
 "cells": [
  {
   "cell_type": "code",
   "execution_count": 5,
   "metadata": {},
   "outputs": [
    {
     "name": "stdout",
     "output_type": "stream",
     "text": [
      "This is x^0-ep* for p=1:  [[ 2.5       ]\n",
      " [ 3.66666667]]\n",
      "This is x^0-ep* for p=2:  [[ 2.19230769]\n",
      " [ 3.46153846]]\n",
      "This is x^0-ep* for p='inf':  [[ 2.1]\n",
      " [ 3.4]]\n",
      "This is x^0-ep* for absolute duality:  [array([[ 2.1],\n",
      "       [ 3.4]])]\n",
      "This is x^0-ep* for relative duality:  [array([[ 3.16666667],\n",
      "       [ 3.66666667]])]\n"
     ]
    }
   ],
   "source": [
    "from gio import GIO\n",
    "import numpy as np\n",
    "\n",
    "##Data from Chan et al. (2018)'s Example 1##\n",
    "#Notice that we have numpy arrays here.\n",
    "A = np.array([[2,5],[2,-3],[2,1],[-2,-1]])\n",
    "b = np.array([[10],[-6],[4],[-10]])\n",
    "x0 = np.array([[2.5],[3]])\n",
    "\n",
    "##Creating the GIO object and Generating all of the x^0-ep* for all GIO Models## \n",
    "#.GIO_all_measures() calls all of the GIO methods\n",
    "gio_testing = GIO(A,b,x0)\n",
    "gio_testing.GIO_all_measures()\n",
    "print(\"This is x^0-ep* for p=1: \",gio_testing.x0_epsilon_p[0])\n",
    "print(\"This is x^0-ep* for p=2: \",gio_testing.x0_epsilon_p[1])\n",
    "print(\"This is x^0-ep* for p='inf': \",gio_testing.x0_epsilon_p[2])\n",
    "print(\"This is x^0-ep* for absolute duality: \",gio_testing.x0_epsilon_a)\n",
    "print(\"This is x^0-ep* for relative duality: \",gio_testing.x0_epsilon_r)"
   ]
  },
  {
   "cell_type": "code",
   "execution_count": 6,
   "metadata": {},
   "outputs": [
    {
     "name": "stdout",
     "output_type": "stream",
     "text": [
      "This is x^0-ep* for absolute duality:  [[ 2.1]\n",
      " [ 3.4]]\n",
      "This is x^0-ep* for relative duality:  [[ 3.16666667]\n",
      " [ 3.66666667]]\n"
     ]
    }
   ],
   "source": [
    "##Because we are storing the calculated attributes in lists, we see that, \n",
    "##for the last two print statements in the previous cell, a list was returned \n",
    "##with an array inside of it.  We can solve this problem by add an index element [0] \n",
    "print(\"This is x^0-ep* for absolute duality: \",gio_testing.x0_epsilon_a[0])\n",
    "print(\"This is x^0-ep* for relative duality: \",gio_testing.x0_epsilon_r[0])"
   ]
  },
  {
   "cell_type": "code",
   "execution_count": null,
   "metadata": {
    "collapsed": true
   },
   "outputs": [],
   "source": [
    "##The GIO class also handles cases when you might minimally project onto multiple\n",
    "##hyperplanes. The class will put the multiple istar indices into the .istar_multi \n",
    "##attribute but will choose the first istar index as the one to continue calculations.\n",
    "\n",
    "##The class will also output a message to the user to let the user know that \n",
    "##this has occurred. \n",
    "\n",
    "A_1 = np.array([[-1,-1],[1,-1],[1,1],[-1,1]]) \n",
    "b_1 = np.array([[-1],[-1],[-1],[-1]])\n",
    "x0_1 = np.array([[0],[0.7]])\n"
   ]
  },
  {
   "cell_type": "markdown",
   "metadata": {},
   "source": [
    "The corresponding feasible region set up for the above $A$ and $b$ is as follows:\n",
    "\n",
    "\\begin{equation}\n",
    "-x_1 - x_2 \\geq -1\n",
    "\\end{equation}\n",
    "\\begin{equation}\n",
    "x_1 - x_2 \\geq -1\n",
    "\\end{equation}\n",
    "\\begin{equation}\n",
    "x_1 + x_2 \\geq -1\n",
    "\\end{equation}\n",
    "\\begin{equation}\n",
    "-x_1 + x_2 \\geq -1\n",
    "\\end{equation}\n",
    "\n",
    "We can then demonstrate the feasible region using the image below (with approximate placement of $x^0$ below). The numbering corresponds to the order of the constraints below (and then the 0 indexing of Python).\n",
    "\n",
    "![alt text](Steph_Test_Ex.jpg \"Feasible Region\")"
   ]
  },
  {
   "cell_type": "code",
   "execution_count": 7,
   "metadata": {},
   "outputs": [
    {
     "name": "stdout",
     "output_type": "stream",
     "text": [
      "Under the inf dual norm, x^0 has been projected onto multiple hyperplanes.  For now, we will choose the first i index and will put the rest of the indices in the istar_multi attribute.\n"
     ]
    }
   ],
   "source": [
    "##We will create another GIO object to find the optimal epsilon* under the p=1 norm.\n",
    "##Due to the position of x0_1 and the properties of the p=1 norm, we know that this\n",
    "##will result into a projection onto multiple hyperplanes\n",
    "\n",
    "#We will need to bring in everything again because we had a break in the code \n",
    "#cells (with the markup cell above)\n",
    "\n",
    "from gio import GIO\n",
    "import numpy as np\n",
    "\n",
    "A_1 = np.array([[-1,-1],[1,-1],[1,1],[-1,1]]) \n",
    "b_1 = np.array([[-1],[-1],[-1],[-1]])\n",
    "x0_1 = np.array([[0],[0.7]])\n",
    "\n",
    "gio_multi_project_testing = GIO(A_1,b_1,x0_1)\n",
    "gio_multi_project_testing.GIO_p(1,'F') "
   ]
  },
  {
   "cell_type": "code",
   "execution_count": 8,
   "metadata": {},
   "outputs": [
    {
     "name": "stdout",
     "output_type": "stream",
     "text": [
      "[array([0, 1], dtype=int64)]\n"
     ]
    }
   ],
   "source": [
    "##As we can see, a message is printed to the user when x^0 is projected onto multiple\n",
    "##hyperplanes.\n",
    "##We can see the multiple istar if we print the .istar_multi attribute\n",
    "print(gio_multi_project_testing.istar_multi)"
   ]
  },
  {
   "cell_type": "code",
   "execution_count": 9,
   "metadata": {},
   "outputs": [
    {
     "name": "stdout",
     "output_type": "stream",
     "text": [
      "Raw Indices:  [0 1]\n",
      "Single index:  0\n"
     ]
    }
   ],
   "source": [
    "##To obtain the raw indices, index into the list\n",
    "print(\"Raw Indices: \", gio_multi_project_testing.istar_multi[0])\n",
    "##To obtain only one of the indices, do a double index\n",
    "print(\"Single index: \",gio_multi_project_testing.istar_multi[0][0])"
   ]
  },
  {
   "cell_type": "code",
   "execution_count": 10,
   "metadata": {},
   "outputs": [
    {
     "name": "stdout",
     "output_type": "stream",
     "text": [
      "This is the epsilon* for p=1:  [array([[-0.3],\n",
      "       [-0. ]])]\n",
      "This is the (x^0 - epsilon*):  [array([[ 0.3],\n",
      "       [ 0.7]])]\n"
     ]
    }
   ],
   "source": [
    "##We see though that only one epsilon* is calculated and thus only one x^0-epsilon* \n",
    "##is also calculated\n",
    "print(\"This is the epsilon* for p=1: \",gio_multi_project_testing.epsilon_p)\n",
    "print(\"This is the (x^0 - epsilon*): \",gio_multi_project_testing.x0_epsilon_p)"
   ]
  },
  {
   "cell_type": "code",
   "execution_count": 5,
   "metadata": {},
   "outputs": [
    {
     "name": "stdout",
     "output_type": "stream",
     "text": [
      "This is the number of variables: 2\n",
      "This is the model:\n",
      "1 Set Declarations\n",
      "    Amat_index : Dim=0, Dimen=2, Size=4, Domain=None, Ordered=True, Bounds=None\n",
      "        Virtual\n",
      "\n",
      "1 RangeSet Declarations\n",
      "    varindex : Dim=0, Dimen=1, Size=2, Domain=Integers, Ordered=True, Bounds=(1, 2)\n",
      "        Virtual\n",
      "\n",
      "2 Param Declarations\n",
      "    Amat : Size=4, Index=Amat_index, Domain=Any, Default=None, Mutable=False\n",
      "        Key    : Value\n",
      "        (1, 1) :     1\n",
      "        (1, 2) :     2\n",
      "        (2, 1) :     3\n",
      "        (2, 2) :     4\n",
      "    numvars : Size=1, Index=None, Domain=Any, Default=None, Mutable=False\n",
      "        Key  : Value\n",
      "        None :     2\n",
      "\n",
      "1 Var Declarations\n",
      "    x : Size=2, Index=varindex\n",
      "        Key : Lower : Value : Upper : Fixed : Stale : Domain\n",
      "          1 :  None :  None :  None : False :  True :  Reals\n",
      "          2 :  None :  None :  None : False :  True :  Reals\n",
      "\n",
      "1 Constraint Declarations\n",
      "    constraints : Size=2, Index=varindex, Active=True\n",
      "        Key : Lower : Body            : Upper : Active\n",
      "          1 :  -Inf :   x[1] + 2*x[2] :   [1] :   True\n",
      "          2 :  -Inf : 3*x[1] + 4*x[2] :   [2] :   True\n",
      "\n",
      "6 Declarations: varindex numvars x Amat_index Amat constraints\n",
      "This is just the parameter A component/attribute of the model\n",
      "1\n",
      "Trying...... 2\n"
     ]
    },
    {
     "data": {
      "text/plain": [
       "pyomo.core.base.param.IndexedParam"
      ]
     },
     "execution_count": 5,
     "metadata": {},
     "output_type": "execute_result"
    }
   ],
   "source": [
    "###Fiddling Around with Pyomo Objects###\n",
    "#Need to figure out what the Parameter A looks like\n",
    "#MAYBE LATER: We can look into if we can recover data from a model\n",
    "#that is set up well for the forward problem but that does not \n",
    "#define this A\n",
    "import pyomo.environ as pyo\n",
    "import numpy as np\n",
    "\n",
    "A = np.array([[1,2],[3,4]])\n",
    "b = np.array([[1],[2]])\n",
    "\n",
    "test_model = pyo.ConcreteModel()\n",
    "test_model.varindex = pyo.RangeSet(2)\n",
    "test_model.numvars = pyo.Param(initialize=2)\n",
    "test_model.x = pyo.Var(test_model.varindex)\n",
    "def A_mat_func(model,i,j):\n",
    "    return A[i-1,j-1]\n",
    "\n",
    "test_model.Amat = pyo.Param(test_model.varindex,test_model.varindex,rule=A_mat_func)\n",
    "\n",
    "def constraint_rule(model,i):\n",
    "    return sum( model.Amat[i,j]*model.x[j] for j in range(1,model.numvars+1)) <= b[i-1,:]\n",
    "\n",
    "test_model.constraints = pyo.Constraint(test_model.varindex,rule=constraint_rule)\n",
    "\n",
    "print(\"This is the number of variables:\",test_model.numvars.value)\n",
    "\n",
    "print(\"This is the model:\")\n",
    "test_model.pprint()\n",
    "\n",
    "print(\"This is just the parameter A component/attribute of the model\")\n",
    "print(test_model.Amat[1,1]) #doesnt look like I can use the slicer operation \n",
    "                            #(tried and failed)\n",
    "                            #so I think I'm going to have to have a function that\n",
    "                            #basically iterates through the \"A\" parameter matrix\n",
    "                            #and puts into a numpy array - will have that in the initialization\n",
    "                            #set up\n",
    "                        \n",
    "                            #We can easily unittest this as well. (Just literally put example 1\n",
    "                            #in a pyomo model with Amat and bvec and runs through the same unit test)\n",
    "\n",
    "A_test = test_model.Amat\n",
    "\n",
    "print(\"Trying......\",A_test[1,2])\n",
    "\n",
    "type(A_test)\n",
    "\n",
    "\n",
    "    \n"
   ]
  },
  {
   "cell_type": "code",
   "execution_count": null,
   "metadata": {
    "collapsed": true
   },
   "outputs": [],
   "source": []
  }
 ],
 "metadata": {
  "kernelspec": {
   "display_name": "Python 3",
   "language": "python",
   "name": "python3"
  },
  "language_info": {
   "codemirror_mode": {
    "name": "ipython",
    "version": 3
   },
   "file_extension": ".py",
   "mimetype": "text/x-python",
   "name": "python",
   "nbconvert_exporter": "python",
   "pygments_lexer": "ipython3",
   "version": "3.6.2"
  }
 },
 "nbformat": 4,
 "nbformat_minor": 2
}
