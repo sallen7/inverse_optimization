{
 "cells": [
  {
   "cell_type": "code",
   "execution_count": 9,
   "metadata": {},
   "outputs": [
    {
     "name": "stdout",
     "output_type": "stream",
     "text": [
      "This is x^0-ep* for p=1:  [[ 2.5       ]\n",
      " [ 3.66666667]]\n",
      "This is x^0-ep* for p=2:  [[ 2.19230769]\n",
      " [ 3.46153846]]\n",
      "This is x^0-ep* for p='inf':  [[ 2.1]\n",
      " [ 3.4]]\n",
      "This is x^0-ep* for absolute duality:  [array([[ 2.1],\n",
      "       [ 3.4]])]\n",
      "This is x^0-ep* for relative duality:  [array([[ 3.16666667],\n",
      "       [ 3.66666667]])]\n"
     ]
    }
   ],
   "source": [
    "from gio import GIO\n",
    "import numpy as np\n",
    "\n",
    "##Data from Chan et al. (2018)'s Example 1##\n",
    "#Notice that we have numpy arrays here.\n",
    "A = np.array([[2,5],[2,-3],[2,1],[-2,-1]])\n",
    "b = np.array([[10],[-6],[4],[-10]])\n",
    "x0 = np.array([[2.5],[3]])\n",
    "\n",
    "##Creating the GIO object and Generating all of the x^0-ep* for all GIO Models## \n",
    "#.GIO_all_measures() calls all of the GIO methods\n",
    "gio_testing = GIO(A,b,x0)\n",
    "gio_testing.GIO_all_measures()\n",
    "print(\"This is x^0-ep* for p=1: \",gio_testing.x0_epsilon_p[0])\n",
    "print(\"This is x^0-ep* for p=2: \",gio_testing.x0_epsilon_p[1])\n",
    "print(\"This is x^0-ep* for p='inf': \",gio_testing.x0_epsilon_p[2])\n",
    "print(\"This is x^0-ep* for absolute duality: \",gio_testing.x0_epsilon_a)\n",
    "print(\"This is x^0-ep* for relative duality: \",gio_testing.x0_epsilon_r)"
   ]
  },
  {
   "cell_type": "code",
   "execution_count": 10,
   "metadata": {},
   "outputs": [
    {
     "name": "stdout",
     "output_type": "stream",
     "text": [
      "This is x^0-ep* for absolute duality:  [[ 2.1]\n",
      " [ 3.4]]\n",
      "This is x^0-ep* for relative duality:  [[ 3.16666667]\n",
      " [ 3.66666667]]\n"
     ]
    }
   ],
   "source": [
    "##Because we are storing the calculated attributes in lists, we see that, \n",
    "##for the last two print statements in the previous cell, a list was returned \n",
    "##with an array inside of it.  We can solve this problem by add an index element [0] \n",
    "print(\"This is x^0-ep* for absolute duality: \",gio_testing.x0_epsilon_a[0])\n",
    "print(\"This is x^0-ep* for relative duality: \",gio_testing.x0_epsilon_r[0])"
   ]
  },
  {
   "cell_type": "code",
   "execution_count": null,
   "metadata": {
    "collapsed": true
   },
   "outputs": [],
   "source": [
    "##The GIO class also handles cases when you might minimally project onto multiple\n",
    "##hyperplanes. The class will put the multiple istar indices into the .istar_multi \n",
    "##attribute but will choose the first istar index as the one to continue calculations.\n",
    "\n",
    "##The class will also output a message to the user to let the user know that \n",
    "##this has occurred. \n",
    "\n",
    "A_1 = np.array([[-1,-1],[1,-1],[1,1],[-1,1]]) \n",
    "b_1 = np.array([[-1],[-1],[-1],[-1]])\n",
    "x0_1 = np.array([[0],[0.7]])\n"
   ]
  },
  {
   "cell_type": "markdown",
   "metadata": {},
   "source": [
    "The corresponding feasible region set up for the above $A$ and $b$ is as follows:\n",
    "\n",
    "\\begin{equation}\n",
    "-x_1 - x_2 \\geq -1\n",
    "\\end{equation}\n",
    "\\begin{equation}\n",
    "x_1 - x_2 \\geq -1\n",
    "\\end{equation}\n",
    "\\begin{equation}\n",
    "x_1 + x_2 \\geq -1\n",
    "\\end{equation}\n",
    "\\begin{equation}\n",
    "-x_1 + x_2 \\geq -1\n",
    "\\end{equation}\n",
    "\n",
    "We can then demonstrate the feasible region using the image below (with approximate placement of $x^0$ below). The numbering corresponds to the order of the constraints below (and then the 0 indexing of Python).\n",
    "\n",
    "![alt text](Steph_Test_Ex.jpg \"Feasible Region\")"
   ]
  },
  {
   "cell_type": "code",
   "execution_count": 11,
   "metadata": {},
   "outputs": [
    {
     "name": "stdout",
     "output_type": "stream",
     "text": [
      "Under the inf dual norm, x^0 has been projected onto multiple hyperplanes.  For now, we will choose the first i index and will put the rest of the indices in the istar_multi attribute.\n"
     ]
    }
   ],
   "source": [
    "##We will create another GIO object to find the optimal epsilon* under the p=1 norm.\n",
    "##Due to the position of x0_1 and the properties of the p=1 norm, we know that this\n",
    "##will result into a projection onto multiple hyperplanes\n",
    "\n",
    "#We will need to bring in everything again because we had a break in the code \n",
    "#cells (with the markup cell above)\n",
    "\n",
    "from gio import GIO\n",
    "import numpy as np\n",
    "\n",
    "A_1 = np.array([[-1,-1],[1,-1],[1,1],[-1,1]]) \n",
    "b_1 = np.array([[-1],[-1],[-1],[-1]])\n",
    "x0_1 = np.array([[0],[0.7]])\n",
    "\n",
    "gio_multi_project_testing = GIO(A_1,b_1,x0_1)\n",
    "gio_multi_project_testing.GIO_p(1,'F') "
   ]
  },
  {
   "cell_type": "code",
   "execution_count": 12,
   "metadata": {},
   "outputs": [
    {
     "name": "stdout",
     "output_type": "stream",
     "text": [
      "[array([0, 1], dtype=int64)]\n"
     ]
    }
   ],
   "source": [
    "##As we can see, a message is printed to the user when x^0 is projected onto multiple\n",
    "##hyperplanes.\n",
    "##We can see the multiple istar if we print the .istar_multi attribute\n",
    "print(gio_multi_project_testing.istar_multi)"
   ]
  },
  {
   "cell_type": "code",
   "execution_count": 13,
   "metadata": {},
   "outputs": [
    {
     "name": "stdout",
     "output_type": "stream",
     "text": [
      "Raw Indices:  [0 1]\n",
      "Single index:  0\n"
     ]
    }
   ],
   "source": [
    "##To obtain the raw indices, index into the list\n",
    "print(\"Raw Indices: \", gio_multi_project_testing.istar_multi[0])\n",
    "##To obtain only one of the indices, do a double index\n",
    "print(\"Single index: \",gio_multi_project_testing.istar_multi[0][0])"
   ]
  },
  {
   "cell_type": "code",
   "execution_count": 14,
   "metadata": {},
   "outputs": [
    {
     "name": "stdout",
     "output_type": "stream",
     "text": [
      "This is the epsilon* for p=1:  [array([[-0.3],\n",
      "       [-0. ]])]\n",
      "This is the (x^0 - epsilon*):  [array([[ 0.3],\n",
      "       [ 0.7]])]\n"
     ]
    }
   ],
   "source": [
    "##We see though that only one epsilon* is calculated and thus only one x^0-epsilon* \n",
    "##is also calculated\n",
    "print(\"This is the epsilon* for p=1: \",gio_multi_project_testing.epsilon_p)\n",
    "print(\"This is the (x^0 - epsilon*): \",gio_multi_project_testing.x0_epsilon_p)"
   ]
  },
  {
   "cell_type": "code",
   "execution_count": 15,
   "metadata": {},
   "outputs": [
    {
     "name": "stdout",
     "output_type": "stream",
     "text": [
      "This is rho_p exact: [0.73886235873548278]\n",
      "This is rho_p - rho_p_approx: 0.0232038316283\n",
      "This is rho_a: [0.7119341563786008]\n",
      "This is rho_r: [0.8851674641148326]\n"
     ]
    }
   ],
   "source": [
    "###Calculating rho values###\n",
    "from gio import GIO\n",
    "import numpy as np\n",
    "\n",
    "##Chan et al. (2018)'s Example 1##\n",
    "##We have changed x0 to demonstrate the rho_p_approx <= rho_p relationship\n",
    "A = np.array([[2,5],[2,-3],[2,1],[-2,-1]])\n",
    "b = np.array([[10],[-6],[4],[-10]])\n",
    "x0 = np.array([[4],[1]])\n",
    "\n",
    "GIO_rho_test = GIO(A,b,x0)\n",
    "GIO_rho_test.calculate_rho_p(2) #notice that we did not\n",
    "                #have to specify if_append='F' because\n",
    "                #we set a default value in the code\n",
    "GIO_rho_test.calculate_rho_p_approx(2)\n",
    "print(\"This is rho_p exact:\",GIO_rho_test.rho_p)\n",
    "print(\"This is rho_p - rho_p_approx:\",(GIO_rho_test.rho_p[0] - GIO_rho_test.rho_p_approx[0]))\n",
    "\n",
    "GIO_rho_test.calculate_rho_a()\n",
    "print(\"This is rho_a:\",GIO_rho_test.rho_a)\n",
    "GIO_rho_test.calculate_rho_r()\n",
    "print(\"This is rho_r:\",GIO_rho_test.rho_r)\n"
   ]
  },
  {
   "cell_type": "code",
   "execution_count": 3,
   "metadata": {},
   "outputs": [
    {
     "name": "stdout",
     "output_type": "stream",
     "text": [
      "This is rho_r for x0_1: [0.71428571428571441]\n",
      "This is rho_r for x0_2: [0.8851674641148326]\n",
      "Under the b dual norm, x^0 has been projected onto multiple hyperplanes.  For now, we will choose the first i index and will put the rest of the indices in the istar_multi attribute.\n",
      "This is rho_r for x0_3: [0.18644067796610142]\n"
     ]
    }
   ],
   "source": [
    "###Testing some values for Validating rho_r#####\n",
    "from gio import GIO\n",
    "import numpy as np\n",
    "\n",
    "##Chan et al. (2018)'s Example 1##\n",
    "A = np.array([[2,5],[2,-3],[2,1],[-2,-1]])\n",
    "b = np.array([[10],[-6],[4],[-10]])\n",
    "x0_1 = np.array([[3],[2]])\n",
    "x0_2 = np.array([[4],[1]])\n",
    "x0_3 = np.array([[2],[2]])\n",
    "\n",
    "validate_rho_r = GIO(A,b,x0_1)\n",
    "validate_rho_r.calculate_rho_r()\n",
    "print(\"This is rho_r for x0_1:\",validate_rho_r.rho_r)\n",
    "\n",
    "validate_rho_r = GIO(A,b,x0_2)\n",
    "validate_rho_r.calculate_rho_r()\n",
    "print(\"This is rho_r for x0_2:\",validate_rho_r.rho_r)\n",
    "\n",
    "validate_rho_r = GIO(A,b,x0_3)\n",
    "validate_rho_r.calculate_rho_r()\n",
    "print(\"This is rho_r for x0_3:\",validate_rho_r.rho_r)\n",
    "\n"
   ]
  },
  {
   "cell_type": "code",
   "execution_count": 7,
   "metadata": {},
   "outputs": [
    {
     "name": "stdout",
     "output_type": "stream",
     "text": [
      "WARNING: Loading a SolverResults object with a warning status into\n",
      "    model=unknown;\n",
      "        message from solver=Ipopt 3.11.1\\x3a Converged to a locally infeasible\n",
      "        point. Problem may be infeasible.\n",
      "We have infeasibility for constraint= 0 .  Putting bigM in the  container_for_obj_vals vector\n",
      "WARNING: Loading a SolverResults object with a warning status into\n",
      "    model=unknown;\n",
      "        message from solver=Ipopt 3.11.1\\x3a Converged to a locally infeasible\n",
      "        point. Problem may be infeasible.\n",
      "We have infeasibility for constraint= 1 .  Putting bigM in the  container_for_obj_vals vector\n",
      "WARNING: Loading a SolverResults object with a warning status into\n",
      "    model=unknown;\n",
      "        message from solver=Ipopt 3.11.1\\x3a Converged to a locally infeasible\n",
      "        point. Problem may be infeasible.\n",
      "We have infeasibility for constraint= 2 .  Putting bigM in the  container_for_obj_vals vector\n",
      "*************************************************\n",
      "The c vector found by this workflow is: [[-0.66666667]\n",
      " [-0.33333333]]\n",
      "The c vector found by this workflow (not adding epsilon constraints) is: [[ 0.4]\n",
      " [-0.6]]\n"
     ]
    }
   ],
   "source": [
    "###Structural Considerations for GIO Models###\n",
    "from gio import GIO\n",
    "import numpy as np\n",
    "import pyomo.environ as pyo\n",
    "\n",
    "A = np.array([[2,5],[2,-3],[2,1],[-2,-1]])\n",
    "b = np.array([[10],[-6],[4],[-10]])\n",
    "x0 = np.array([[2.5],[3]])\n",
    "\n",
    "structural_ep_gio_test = GIO(A,b,x0) #instigating the GIO object\n",
    "\n",
    "###Step 1: Create the Base Model###\n",
    "#The attribute where the model is stored is called GIO_struc_ep, which is\n",
    "#the Pyomo model.\n",
    "structural_ep_gio_test.GIO_structural_epsilon_setup() \n",
    "\n",
    "### Step 2: If desired, Add constraints on Epsilon ###\n",
    "### to GIO_struc_ep ###\n",
    "### The variable for epsilon is called ep ###\n",
    "### The index set for variables is varindex ###\n",
    "def ep_constraint(model):  #should provide the details of the index sets and the numvar parameters\n",
    "    return model.ep[1] <= model.ep[2] #specifically did not ID the epsilon as nonnegative in gio.py\n",
    "structural_ep_gio_test.GIO_struc_ep.constraint_ep = pyo.Constraint(rule=ep_constraint)\n",
    "\n",
    "def non_neg_ep(model,i):\n",
    "    return model.ep[i] <= 0\n",
    "structural_ep_gio_test.GIO_struc_ep.non_neg_ep = pyo.Constraint(\\\n",
    "            structural_ep_gio_test.GIO_struc_ep.varindex,rule=non_neg_ep)\n",
    "\n",
    "### Step 3: Solve the Model ###\n",
    "#You can specify p as p=1,2,infty\n",
    "#The solver will generate some output letting you know about infeasibility\n",
    "#but we also produce output too, letting you know which constraint number \n",
    "#in terms of Python indexing that, when forced to be an equality, \n",
    "#results in infeasibility\n",
    "structural_ep_gio_test.GIO_structural_epsilon_solve(2)\n",
    "\n",
    "print(\"*************************************************\")\n",
    "print(\"The c vector found by this workflow is:\",structural_ep_gio_test.c_p[0])\n",
    "\n",
    "###########################################################################################\n",
    "#We can also generate the same results as the close form solution\n",
    "structural_ep_no_added_constraints_test = GIO(A,b,x0)\n",
    "structural_ep_no_added_constraints_test.GIO_structural_epsilon_setup()\n",
    "structural_ep_no_added_constraints_test.GIO_structural_epsilon_solve(2)\n",
    "\n",
    "print(\"The c vector found by this workflow (not adding epsilon constraints) is:\",\\\n",
    "     structural_ep_no_added_constraints_test.c_p[0])\n",
    "\n"
   ]
  },
  {
   "cell_type": "code",
   "execution_count": null,
   "metadata": {
    "collapsed": true
   },
   "outputs": [],
   "source": []
  }
 ],
 "metadata": {
  "kernelspec": {
   "display_name": "Python 3",
   "language": "python",
   "name": "python3"
  },
  "language_info": {
   "codemirror_mode": {
    "name": "ipython",
    "version": 3
   },
   "file_extension": ".py",
   "mimetype": "text/x-python",
   "name": "python",
   "nbconvert_exporter": "python",
   "pygments_lexer": "ipython3",
   "version": "3.6.2"
  }
 },
 "nbformat": 4,
 "nbformat_minor": 2
}
